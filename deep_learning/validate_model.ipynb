{
 "cells": [
  {
   "cell_type": "markdown",
   "metadata": {},
   "source": [
    "# BERTopic Test"
   ]
  },
  {
   "cell_type": "markdown",
   "metadata": {},
   "source": [
    "## Test the Model"
   ]
  },
  {
   "cell_type": "code",
   "execution_count": null,
   "metadata": {},
   "outputs": [],
   "source": [
    "HUGGING_FACE_USERNAME = \"username\"\n",
    "MODEL_NAME = \"BERTOPIC_MEDBLAST\""
   ]
  },
  {
   "cell_type": "code",
   "execution_count": null,
   "metadata": {},
   "outputs": [],
   "source": [
    "embeddings = np.load(f\"{MODEL_NAME}-embedded.npy\")"
   ]
  },
  {
   "cell_type": "code",
   "execution_count": null,
   "metadata": {},
   "outputs": [],
   "source": [
    "from bertopic import BERTopic\n",
    "\n",
    "topic_model = BERTopic.load(f\"{HUGGING_FACE_USERNAME}/{MODEL_NAME}\", embedding_model=embeddings)\n",
    "\n",
    "topic_model.get_topic_info()"
   ]
  },
  {
   "cell_type": "code",
   "execution_count": null,
   "metadata": {},
   "outputs": [],
   "source": [
    "df2023 = pd.read_csv(\"clean2023.csv\")\n",
    "df2022 = pd.read_csv(\"clean2022.csv\")\n",
    "df2021 = pd.read_csv(\"clean2021.csv\")\n",
    "df2020 = pd.read_csv(\"clean2020.csv\")\n",
    "df2019 = pd.read_csv(\"clean2019.csv\")\n",
    "df2018 = pd.read_csv(\"clean2018.csv\")\n",
    "\n",
    "dfs = [df2023, df2022, df2021, df2020, df2019, df2018]\n",
    "df = pd.concat(dfs)\n",
    "\n",
    "docs = list(df[\"Title_Abstract\"].astype(str))[:]"
   ]
  },
  {
   "cell_type": "code",
   "execution_count": null,
   "metadata": {},
   "outputs": [],
   "source": [
    "freq = topic_model.get_topic_info()\n",
    "\n",
    "freq.head()"
   ]
  },
  {
   "cell_type": "code",
   "execution_count": null,
   "metadata": {},
   "outputs": [],
   "source": [
    "pd.DataFrame({\"Document\": docs, \"Topic\": topic_model.topics_})"
   ]
  },
  {
   "cell_type": "markdown",
   "metadata": {},
   "source": [
    "## Test Visualizer"
   ]
  },
  {
   "cell_type": "code",
   "execution_count": null,
   "metadata": {},
   "outputs": [],
   "source": [
    "topic_model.visualize_topics()"
   ]
  }
 ],
 "metadata": {
  "language_info": {
   "name": "python"
  }
 },
 "nbformat": 4,
 "nbformat_minor": 2
}
